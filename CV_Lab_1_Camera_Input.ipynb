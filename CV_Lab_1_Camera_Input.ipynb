{
 "cells": [
  {
   "cell_type": "code",
   "execution_count": null,
   "metadata": {},
   "outputs": [],
   "source": []
  },
  {
   "cell_type": "code",
   "execution_count": null,
   "metadata": {},
   "outputs": [],
   "source": [
    "!pip install openCV.python"
   ]
  },
  {
   "cell_type": "code",
   "execution_count": null,
   "metadata": {},
   "outputs": [],
   "source": [
    "import cv2 #Computer Vision Library, cv2"
   ]
  },
  {
   "cell_type": "code",
   "execution_count": null,
   "metadata": {},
   "outputs": [],
   "source": [
    "#Open the default camera\n",
    "\n",
    "cam = cv2.VideoCapture(0)"
   ]
  },
  {
   "cell_type": "code",
   "execution_count": null,
   "metadata": {},
   "outputs": [],
   "source": [
    "#Get the default frame width and height\n",
    "\n",
    "frame_width = int(cam.get(cv2.CAP_PROP_FRAME_WIDTH)) #Set frame width to default width of camera\n",
    "\n",
    "frame_height = int(cam.get(cv2.CAP_PROP_FRAME_HEIGHT)) #Set frame height to default height of camera\n",
    "\n",
    "#Define the codec and create VideoWriter object\n",
    "\n",
    "fourcc = cv2.videoWriter_fourcc(*'mp4v')\n",
    "out = cv2.VideoWriter('D:/output.mp4',)"
   ]
  }
 ],
 "metadata": {
  "kernelspec": {
   "display_name": "Python 3",
   "language": "python",
   "name": "python3"
  },
  "language_info": {
   "codemirror_mode": {
    "name": "ipython",
    "version": 3
   },
   "file_extension": ".py",
   "mimetype": "text/x-python",
   "name": "python",
   "nbconvert_exporter": "python",
   "pygments_lexer": "ipython3",
   "version": "3.12.0"
  }
 },
 "nbformat": 4,
 "nbformat_minor": 2
}
