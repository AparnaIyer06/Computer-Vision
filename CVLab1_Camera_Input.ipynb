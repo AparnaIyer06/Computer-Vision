{
 "cells": [
  {
   "cell_type": "code",
   "execution_count": 56,
   "id": "aac41ae1-fe8e-4119-8ede-c54a8e40da0b",
   "metadata": {},
   "outputs": [
    {
     "name": "stdout",
     "output_type": "stream",
     "text": [
      "Requirement already satisfied: openCV.python in c:\\users\\aparna iyer\\anaconda3\\lib\\site-packages (4.11.0.86)\n",
      "Requirement already satisfied: numpy>=1.21.2 in c:\\users\\aparna iyer\\anaconda3\\lib\\site-packages (from openCV.python) (1.26.4)\n"
     ]
    }
   ],
   "source": [
    "!pip install openCV.python"
   ]
  },
  {
   "cell_type": "code",
   "execution_count": 1,
   "id": "c9da9313-e421-43c8-b63d-2430a0e18658",
   "metadata": {},
   "outputs": [],
   "source": [
    "###Name: Aparna Iyer\n",
    "###PRN: 22070126017"
   ]
  },
  {
   "cell_type": "code",
   "execution_count": 57,
   "id": "43999057-1ba3-4d77-8016-e443ff50d3d6",
   "metadata": {},
   "outputs": [],
   "source": [
    "import cv2 #Computer Vision Library, cv2"
   ]
  },
  {
   "cell_type": "code",
   "execution_count": 58,
   "id": "5f880a96-ccac-4359-b213-91437be4fc9d",
   "metadata": {},
   "outputs": [],
   "source": [
    "#Open the default camera\n",
    "\n",
    "cam = cv2.VideoCapture(0)"
   ]
  },
  {
   "cell_type": "code",
   "execution_count": 59,
   "id": "b8c4c9ac-a465-4efa-b080-a85fa8410fed",
   "metadata": {},
   "outputs": [],
   "source": [
    "#Get the default frame width and height\n",
    "\n",
    "frame_width = int(cam.get(cv2.CAP_PROP_FRAME_WIDTH)) #Set frame width to default width of camera\n",
    "\n",
    "frame_height = int(cam.get(cv2.CAP_PROP_FRAME_HEIGHT)) #Set frame height to default height of camera\n",
    "\n",
    "#Define the codec and create VideoWriter object\n",
    "\n",
    "fourcc = cv2.VideoWriter_fourcc(*'mp4v')\n",
    "out = cv2.VideoWriter('Downloads\\output9.mp4',fourcc,20.0,(frame_width,frame_height))"
   ]
  },
  {
   "cell_type": "code",
   "execution_count": 62,
   "id": "4a3d5104-1785-4712-b6e3-4c5d12324499",
   "metadata": {},
   "outputs": [],
   "source": [
    "while True:\n",
    "\n",
    "    ret, frame = cam.read()\n",
    "    neg = 255-frame\n",
    "    greyscale = cv2.cvtColor(frame, cv2.COLOR_BGR2GRAY)\n",
    "    # Setting parameter values \n",
    "    t_lower = 50  # Lower Threshold \n",
    "    t_upper = 150  # Upper threshold \n",
    "  \n",
    "    # Applying the Canny Edge filter \n",
    "    canny = cv2.Canny(frame, t_lower, t_upper)\n",
    "    #Negative of Canny\n",
    "    canny_neg = 255-canny\n",
    "\n",
    "    #Applying Sobel Edge Filter\n",
    "\n",
    "    # Convert to HSV for simpler calculations \n",
    "    hsv = cv2.cvtColor(frame, cv2.COLOR_BGR2HSV) \n",
    "      \n",
    "    # Calculation of Sobelx \n",
    "    sobelx = cv2.Sobel(frame,cv2.CV_64F,1,0,ksize=5) \n",
    "      \n",
    "    # Calculation of Sobely \n",
    "    sobely = cv2.Sobel(frame,cv2.CV_64F,0,1,ksize=5) \n",
    "      \n",
    "    # Calculation of Laplacian \n",
    "    laplacian = cv2.Laplacian(frame,cv2.CV_64F) \n",
    "\n",
    "    \n",
    "    #Write the frame to the output file\n",
    "    out.write(laplacian)\n",
    "\n",
    "    #Display the captured frame\n",
    "    cv2.imshow('Camera',laplacian)\n",
    "\n",
    "    #Press 'q' to exit the loop\n",
    "\n",
    "    if cv2.waitKey(1)==ord('q'):# Comparing with ASCII value of 'q'\n",
    "        break\n",
    "\n",
    "#Release the capture and writer objects\n",
    "\n",
    "cam.release()\n",
    "\n",
    "out.release()\n",
    "\n",
    "cv2.destroyAllWindows()\n",
    "  \n",
    "    "
   ]
  },
  {
   "cell_type": "code",
   "execution_count": 7,
   "id": "da978776-4fe7-41b5-a75b-95911e6c1685",
   "metadata": {},
   "outputs": [],
   "source": [
    "\n",
    "        "
   ]
  },
  {
   "cell_type": "code",
   "execution_count": null,
   "id": "bfae636a-1d06-4c48-8b6b-dbfd1ba6d51f",
   "metadata": {},
   "outputs": [],
   "source": []
  }
 ],
 "metadata": {
  "kernelspec": {
   "display_name": "Python 3 (ipykernel)",
   "language": "python",
   "name": "python3"
  },
  "language_info": {
   "codemirror_mode": {
    "name": "ipython",
    "version": 3
   },
   "file_extension": ".py",
   "mimetype": "text/x-python",
   "name": "python",
   "nbconvert_exporter": "python",
   "pygments_lexer": "ipython3",
   "version": "3.11.7"
  }
 },
 "nbformat": 4,
 "nbformat_minor": 5
}
